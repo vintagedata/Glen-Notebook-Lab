{
 "cells": [
  {
   "cell_type": "markdown",
   "id": "6ff19fc2-9a2b-43e2-b857-26ede9124d15",
   "metadata": {},
   "source": [
    "# My Jupyter Notebook on IBM Watson Studio"
   ]
  },
  {
   "cell_type": "markdown",
   "id": "e523f8d1-e549-4ad8-89a6-7590af2980c8",
   "metadata": {},
   "source": [
    "**Glen Omary** HR Manager"
   ]
  },
  {
   "cell_type": "markdown",
   "id": "e43f6e7d-26e6-40e2-b5c0-a4fdf261d696",
   "metadata": {},
   "source": [
    "*I am interested in Data Science because it will help me with my current work and it is also very interesting*"
   ]
  },
  {
   "cell_type": "markdown",
   "id": "45fd4327-a511-49fc-a5d2-9bdbbfe855a9",
   "metadata": {},
   "source": [
    "### The code below will print my name ###"
   ]
  },
  {
   "cell_type": "code",
   "execution_count": 5,
   "id": "b0cb15e0-149b-4ab1-895e-e4a57ad14459",
   "metadata": {},
   "outputs": [
    {
     "name": "stdout",
     "output_type": "stream",
     "text": [
      "Glen\n"
     ]
    }
   ],
   "source": [
    "print('Glen')\n"
   ]
  },
  {
   "cell_type": "markdown",
   "id": "ddf287ac-3b1f-46ee-acf3-3f8433c96d9c",
   "metadata": {},
   "source": [
    "* *Bread*\n",
    "- Jam\n",
    "- Tea\n",
    "\n",
    "Life Goals\n",
    "1. Travel More\n",
    "2. Run Less\n",
    "3. Eat more fish\n"
   ]
  },
  {
   "cell_type": "code",
   "execution_count": null,
   "id": "8e6333c7-5eb8-45d8-9917-10bb413fab18",
   "metadata": {},
   "outputs": [],
   "source": []
  }
 ],
 "metadata": {
  "kernelspec": {
   "display_name": "Python",
   "language": "python",
   "name": "conda-env-python-py"
  },
  "language_info": {
   "codemirror_mode": {
    "name": "ipython",
    "version": 3
   },
   "file_extension": ".py",
   "mimetype": "text/x-python",
   "name": "python",
   "nbconvert_exporter": "python",
   "pygments_lexer": "ipython3",
   "version": "3.7.12"
  }
 },
 "nbformat": 4,
 "nbformat_minor": 5
}
